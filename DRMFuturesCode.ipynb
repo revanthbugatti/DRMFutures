{
 "cells": [
  {
   "cell_type": "code",
   "execution_count": null,
   "metadata": {},
   "outputs": [],
   "source": [
    "import requests, zipfile, os, io, pandas as pd\n",
    "from datetime import datetime\n",
    "from dateutil.relativedelta import relativedelta\n",
    "#first make a startdate.txt file which has the previous date from the one you want to download bhavcopy for. eg if you are alloted 1st April 2018 to 31st March 2019, just put 2018-03-31 else if you are alloted 1st April 2019 to 31st March 2020 just put 2019-03-31 in your startdate.txt file\n",
    "#paste this startdate.txt to the desired folder where you wan't to download the bhavcopies. \n",
    "#the code downloads bhav copies till today's date. So you can stop the code when you reach your last date\n",
    "# base = 'E:/CS 3-2/DRM/Assignment/Bhav Copy/' #change your path here\n",
    "base = 'C:/Users/usuma/Desktop/Bhav copy'\n",
    "t = datetime.today().date()\n",
    "dmonth={'01':'JAN','02':'FEB','03':'MAR','04':'APR','05':'MAY','06':'JUN','07':'JUL','08':'AUG','09':'SEP','10':'OCT','11':'NOV','12':'DEC'}"
   ]
  }
 ],
 "metadata": {
  "language_info": {
   "name": "python"
  },
  "orig_nbformat": 4
 },
 "nbformat": 4,
 "nbformat_minor": 2
}
